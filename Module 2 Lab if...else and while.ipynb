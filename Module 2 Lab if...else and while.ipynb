{
 "cells": [
  {
   "metadata": {},
   "cell_type": "markdown",
   "source": [
    "Joshua Gonzalez\n",
    "Honor Roll Checker\n",
    "This program allows the user to enter Student Names and GPA to determine if they made \n",
    "the Dean's List, the Honor Roll, or neither. "
   ],
   "id": "c7ccae063cce2911"
  },
  {
   "metadata": {},
   "cell_type": "markdown",
   "source": "",
   "id": "63865ac27f40544e"
  },
  {
   "metadata": {
    "ExecuteTime": {
     "end_time": "2025-01-27T16:53:00.231091Z",
     "start_time": "2025-01-27T16:51:29.869629Z"
    }
   },
   "cell_type": "code",
   "source": [
    "\n",
    "def get_last_name ():\n",
    "    while True:\n",
    "        last_name = input(\"Enter your last name: \")\n",
    "        if last_name == \"\":\n",
    "            print(\"Please enter a valid name\")\n",
    "        else:\n",
    "            return last_name\n",
    "            \n",
    "def get_first_name ():\n",
    "    while True:\n",
    "        first_name = input(\"Enter your first name: \")\n",
    "        if first_name == \"\":\n",
    "            print(\"Please enter a valid name\")\n",
    "        else:\n",
    "            return first_name\n",
    "\n",
    "def get_gpa ():\n",
    "    while True:\n",
    "        try:\n",
    "            gpa = float(input(\"Enter your GPA: \"))\n",
    "            if 0 <= gpa <= 4.0: \n",
    "                return gpa\n",
    "            else:\n",
    "                print(\"GPA must be between 0.0 and 4.0. Please try again.\")\n",
    "        except ValueError:\n",
    "            print(\"Invalid input. Please enter a numeric GPA.\")\n",
    "            \n",
    "while True:\n",
    "        last_name = get_last_name()\n",
    "        if last_name == \"ZZZ\":\n",
    "            print(\"Exiting the program.\")\n",
    "            break\n",
    "\n",
    "        first_name = get_first_name()\n",
    "        gpa = get_gpa()\n",
    "\n",
    "        if gpa > 3.5:\n",
    "            print(f\"{first_name} {last_name} made the Dean's List!\")\n",
    "        elif gpa > 3.25:\n",
    "            print(f\"{first_name} {last_name} made the Honor Roll!\")\n",
    "        else:\n",
    "            print(f\"{first_name} {last_name} did not make the Honor Roll.\")\n",
    "            \n",
    "       \n",
    "        \n",
    "    \n",
    "    "
   ],
   "id": "b114b6e6fdce35b8",
   "outputs": [
    {
     "name": "stdout",
     "output_type": "stream",
     "text": [
      "Joshua Gonzalez made the Dean's List!\n",
      "Kiara Santiago made the Dean's List!\n",
      "Jacob Gonzalez made the Honor Roll!\n",
      "Edgar gonzalez did not make the Honor Roll.\n",
      "Margo Gonzalez made the Dean's List!\n",
      "Exiting the program.\n"
     ]
    }
   ],
   "execution_count": 4
  },
  {
   "metadata": {},
   "cell_type": "code",
   "outputs": [],
   "execution_count": null,
   "source": "",
   "id": "a4fb94b201538e8c"
  }
 ],
 "metadata": {
  "kernelspec": {
   "display_name": "Python 3",
   "language": "python",
   "name": "python3"
  },
  "language_info": {
   "codemirror_mode": {
    "name": "ipython",
    "version": 2
   },
   "file_extension": ".py",
   "mimetype": "text/x-python",
   "name": "python",
   "nbconvert_exporter": "python",
   "pygments_lexer": "ipython2",
   "version": "2.7.6"
  }
 },
 "nbformat": 4,
 "nbformat_minor": 5
}
