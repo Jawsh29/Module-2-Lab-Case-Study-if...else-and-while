{
 "cells": [
  {
   "metadata": {},
   "cell_type": "markdown",
   "source": "Things to do 4.1 - 4.2",
   "id": "36865e710d54258b"
  },
  {
   "cell_type": "code",
   "id": "initial_id",
   "metadata": {
    "collapsed": true,
    "ExecuteTime": {
     "end_time": "2025-01-27T18:11:04.679253Z",
     "start_time": "2025-01-27T18:11:04.677096Z"
    }
   },
   "source": [
    "secret = 3\n",
    "guess = 5\n",
    "if guess < secret:\n",
    "    print(\"too low\")\n",
    "elif guess > secret:\n",
    "    print(\"too high\")\n",
    "else:\n",
    "    print(\"just right\")\n",
    "    "
   ],
   "outputs": [
    {
     "name": "stdout",
     "output_type": "stream",
     "text": [
      "too high\n"
     ]
    }
   ],
   "execution_count": 1
  },
  {
   "metadata": {
    "ExecuteTime": {
     "end_time": "2025-01-27T18:25:03.455274Z",
     "start_time": "2025-01-27T18:25:03.450362Z"
    }
   },
   "cell_type": "code",
   "source": [
    "green = True\n",
    "small = True\n",
    "\n",
    "if green:\n",
    "    if small:\n",
    "        print(\"It is a Pea\")\n",
    "    else:\n",
    "        print(\"It is a Watermelon\")\n",
    "else:\n",
    "    if small:\n",
    "        print(\"It is a Cherry\")\n",
    "    else: \n",
    "        print(\"It is a Pumpkin\")"
   ],
   "id": "91299b04bd0b61da",
   "outputs": [
    {
     "name": "stdout",
     "output_type": "stream",
     "text": [
      "It is a Pea\n"
     ]
    }
   ],
   "execution_count": 2
  },
  {
   "metadata": {},
   "cell_type": "markdown",
   "source": "Things to Do 6.1 - 6.2 - 6.3",
   "id": "6dd660e073941f69"
  },
  {
   "metadata": {
    "ExecuteTime": {
     "end_time": "2025-01-27T18:33:27.389942Z",
     "start_time": "2025-01-27T18:33:27.387161Z"
    }
   },
   "cell_type": "code",
   "source": [
    "list = [3,2,1,0]\n",
    "for i in range(len(list)):\n",
    "    print(list[i])"
   ],
   "id": "3f66d8109559dbde",
   "outputs": [
    {
     "name": "stdout",
     "output_type": "stream",
     "text": [
      "3\n",
      "2\n",
      "1\n",
      "0\n"
     ]
    }
   ],
   "execution_count": 4
  },
  {
   "metadata": {
    "ExecuteTime": {
     "end_time": "2025-01-27T18:40:50.661748Z",
     "start_time": "2025-01-27T18:40:50.658727Z"
    }
   },
   "cell_type": "code",
   "source": [
    "guess_me = 7\n",
    "number = 1\n",
    "while True:\n",
    "    if number < guess_me:\n",
    "        print(\"Number too low\")\n",
    "        number += 1\n",
    "    elif number == guess_me:\n",
    "        print(\"Found It!\")\n",
    "        break\n",
    "    elif number > guess_me:\n",
    "        print(\"Oops\")\n",
    "        break\n",
    "    "
   ],
   "id": "57eb3f6e4e8fa3b5",
   "outputs": [
    {
     "name": "stdout",
     "output_type": "stream",
     "text": [
      "Number too low\n",
      "Number too low\n",
      "Number too low\n",
      "Number too low\n",
      "Number too low\n",
      "Number too low\n",
      "Found It!\n"
     ]
    }
   ],
   "execution_count": 5
  },
  {
   "metadata": {
    "ExecuteTime": {
     "end_time": "2025-01-27T18:43:25.762648Z",
     "start_time": "2025-01-27T18:43:25.760201Z"
    }
   },
   "cell_type": "code",
   "source": [
    "guess_me = 5\n",
    "for number in range(10):\n",
    "    if number < guess_me:\n",
    "        print(\"too low\")\n",
    "    elif number == guess_me:\n",
    "        print(\"Found It!\")\n",
    "        break\n",
    "    elif number > guess_me:\n",
    "        print(\"Oops\")\n",
    "        break\n",
    "    "
   ],
   "id": "3a4370f766223df0",
   "outputs": [
    {
     "name": "stdout",
     "output_type": "stream",
     "text": [
      "too low\n",
      "too low\n",
      "too low\n",
      "too low\n",
      "too low\n",
      "Found It!\n"
     ]
    }
   ],
   "execution_count": 6
  },
  {
   "metadata": {},
   "cell_type": "code",
   "outputs": [],
   "execution_count": null,
   "source": "",
   "id": "286a5a01df081110"
  }
 ],
 "metadata": {
  "kernelspec": {
   "display_name": "Python 3",
   "language": "python",
   "name": "python3"
  },
  "language_info": {
   "codemirror_mode": {
    "name": "ipython",
    "version": 2
   },
   "file_extension": ".py",
   "mimetype": "text/x-python",
   "name": "python",
   "nbconvert_exporter": "python",
   "pygments_lexer": "ipython2",
   "version": "2.7.6"
  }
 },
 "nbformat": 4,
 "nbformat_minor": 5
}
